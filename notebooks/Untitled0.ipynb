{
 "metadata": {
  "name": ""
 },
 "nbformat": 3,
 "nbformat_minor": 0,
 "worksheets": [
  {
   "cells": [
    {
     "cell_type": "code",
     "collapsed": false,
     "input": [
      "import scipy.io\n",
      "import numpy as np\n",
      "import pandas as pd\n",
      "import matplotlib as mpl\n",
      "import matplotlib.pyplot as plt\n",
      "import os\n",
      "import datetime as dt\n",
      "import statsmodels.api as sm \n",
      "%matplotlib inline"
     ],
     "language": "python",
     "metadata": {},
     "outputs": [],
     "prompt_number": 1
    },
    {
     "cell_type": "code",
     "collapsed": false,
     "input": [
      "os.chdir('/raid3/jiawei/bpa/inverse_routing_ohio/imgs/null_init_usgs_strm/smooth70')"
     ],
     "language": "python",
     "metadata": {},
     "outputs": [],
     "prompt_number": 2
    },
    {
     "cell_type": "code",
     "collapsed": false,
     "input": [
      "mat = scipy.io.loadmat('all_data_40.mat')\n",
      "mat.keys()"
     ],
     "language": "python",
     "metadata": {},
     "outputs": [
      {
       "metadata": {},
       "output_type": "pyout",
       "prompt_number": 3,
       "text": [
        "['tstep',\n",
        " 'runoff2_save',\n",
        " 'runoff_rms_prio',\n",
        " 'streamflow_usgs',\n",
        " 'initname',\n",
        " 'strmname',\n",
        " 'ksteps',\n",
        " 'runoff_bias_post',\n",
        " 'ssteps',\n",
        " '__version__',\n",
        " 'gauge_area',\n",
        " 'gauge_list',\n",
        " 'streamflow_gauge2_all',\n",
        " 'grid_area',\n",
        " 'ncols',\n",
        " 'runoff_bias_prio',\n",
        " 'nrows',\n",
        " 'runoff_rms_post',\n",
        " 'streamflow_gauge1_all',\n",
        " 'nsteps',\n",
        " 'ncells',\n",
        " 'flow_vel',\n",
        " 'runoff1_save',\n",
        " 'nwins',\n",
        " '__header__',\n",
        " '__globals__',\n",
        " 'cmap',\n",
        " 'basin_mask',\n",
        " 'runoff2_save_post',\n",
        " 'streamflow_gauge2_post_all']"
       ]
      }
     ],
     "prompt_number": 3
    },
    {
     "cell_type": "code",
     "collapsed": false,
     "input": [
      "mat['runoff2_save'][40:50]"
     ],
     "language": "python",
     "metadata": {},
     "outputs": [
      {
       "metadata": {},
       "output_type": "pyout",
       "prompt_number": 11,
       "text": [
        "array([[ 227314.4013239 ,  227314.4013239 ,  227314.4013239 ,\n",
        "         227314.4013239 ,  227314.4013239 ],\n",
        "       [ 227688.41376537,  227688.41376537,  227688.41376537,\n",
        "         227688.41376537,  227688.41376537],\n",
        "       [ 220398.91613346,  220398.91613346,  220398.91613346,\n",
        "         220398.91613346,  220398.91613346],\n",
        "       [ 220792.12609926,  220792.12609926,  220792.12609926,\n",
        "         220792.12609926,  220792.12609926],\n",
        "       [ 221184.28517285,  221184.28517285,  221184.28517285,\n",
        "         221184.28517285,  221184.28517285],\n",
        "       [ 221575.39148771,  221575.39148771,  221575.39148771,\n",
        "         221575.39148771,  221575.39148771],\n",
        "       [ 221965.44318229,  221965.44318229,  221965.44318229,\n",
        "         221965.44318229,  221965.44318229],\n",
        "       [ 222354.4384001 ,  222354.4384001 ,  222354.4384001 ,\n",
        "         222354.4384001 ,  222354.4384001 ],\n",
        "       [ 222742.37528965,  222742.37528965,  222742.37528965,\n",
        "         222742.37528965,  222742.37528965],\n",
        "       [ 223129.2520045 ,  223129.2520045 ,  223129.2520045 ,\n",
        "         223129.2520045 ,  223129.2520045 ]])"
       ]
      }
     ],
     "prompt_number": 11
    },
    {
     "cell_type": "code",
     "collapsed": false,
     "input": [
      "mat = scipy.io.loadmat('all_data_70.mat')\n",
      "mat['runoff2_save'][40:50]"
     ],
     "language": "python",
     "metadata": {},
     "outputs": [
      {
       "metadata": {},
       "output_type": "pyout",
       "prompt_number": 14,
       "text": [
        "array([[ 227314.4013239 ,  227314.4013239 ,  227314.4013239 ,\n",
        "         227314.4013239 ,  227314.4013239 ],\n",
        "       [ 227688.41376537,  227688.41376537,  227688.41376537,\n",
        "         227688.41376537,  227688.41376537],\n",
        "       [ 220398.91613346,  220398.91613346,  220398.91613346,\n",
        "         220398.91613346,  220398.91613346],\n",
        "       [ 220792.12609926,  220792.12609926,  220792.12609926,\n",
        "         220792.12609926,  220792.12609926],\n",
        "       [ 221184.28517285,  221184.28517285,  221184.28517285,\n",
        "         221184.28517285,  221184.28517285],\n",
        "       [ 221575.39148771,  221575.39148771,  221575.39148771,\n",
        "         221575.39148771,  221575.39148771],\n",
        "       [ 221965.44318229,  221965.44318229,  221965.44318229,\n",
        "         221965.44318229,  221965.44318229],\n",
        "       [ 222354.4384001 ,  222354.4384001 ,  222354.4384001 ,\n",
        "         222354.4384001 ,  222354.4384001 ],\n",
        "       [ 222742.37528965,  222742.37528965,  222742.37528965,\n",
        "         222742.37528965,  222742.37528965],\n",
        "       [ 223129.2520045 ,  223129.2520045 ,  223129.2520045 ,\n",
        "         223129.2520045 ,  223129.2520045 ]])"
       ]
      }
     ],
     "prompt_number": 14
    },
    {
     "cell_type": "code",
     "collapsed": false,
     "input": [],
     "language": "python",
     "metadata": {},
     "outputs": []
    }
   ],
   "metadata": {}
  }
 ]
}