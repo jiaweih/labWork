{
 "metadata": {
  "name": ""
 },
 "nbformat": 3,
 "nbformat_minor": 0,
 "worksheets": [
  {
   "cells": [
    {
     "cell_type": "markdown",
     "metadata": {},
     "source": [
      "##Text input/output"
     ]
    },
    {
     "cell_type": "markdown",
     "metadata": {},
     "source": [
      "###Write a file"
     ]
    },
    {
     "cell_type": "code",
     "collapsed": false,
     "input": [
      "file_obj = open('test.txt','w')\n",
      "astr='1 2 3 4 5'\n",
      "file_obj.write(astr)  ## A newline character is not automatically written to the file after the string is written.\n",
      "                      ### write a string"
     ],
     "language": "python",
     "metadata": {},
     "outputs": [],
     "prompt_number": 3
    },
    {
     "cell_type": "raw",
     "metadata": {},
     "source": [
      "file_obj.writelines(contents)  ### write a list of strings"
     ]
    },
    {
     "cell_type": "markdown",
     "metadata": {},
     "source": [
      "###Read a file"
     ]
    },
    {
     "cell_type": "code",
     "collapsed": false,
     "input": [
      "file_obj = open('test.txt','r')\n",
      "aline = file_obj.readline()\n",
      "contents = file_obj.readlines()"
     ],
     "language": "python",
     "metadata": {},
     "outputs": [],
     "prompt_number": 4
    },
    {
     "cell_type": "code",
     "collapsed": false,
     "input": [
      "aline"
     ],
     "language": "python",
     "metadata": {},
     "outputs": [
      {
       "metadata": {},
       "output_type": "pyout",
       "prompt_number": 5,
       "text": [
        "'1 2 3 4 5\\n'"
       ]
      }
     ],
     "prompt_number": 5
    },
    {
     "cell_type": "markdown",
     "metadata": {},
     "source": [
      "### Processing file contents"
     ]
    },
    {
     "cell_type": "code",
     "collapsed": false,
     "input": [
      "a = aline.split()\n",
      "a"
     ],
     "language": "python",
     "metadata": {},
     "outputs": [
      {
       "metadata": {},
       "output_type": "pyout",
       "prompt_number": 9,
       "text": [
        "['1', '2', '3', '4', '5']"
       ]
      }
     ],
     "prompt_number": 9
    },
    {
     "cell_type": "code",
     "collapsed": false,
     "input": [
      "'\\t'.join(a)"
     ],
     "language": "python",
     "metadata": {},
     "outputs": [
      {
       "metadata": {},
       "output_type": "pyout",
       "prompt_number": 18,
       "text": [
        "'1\\t2\\t3\\t4\\t5'"
       ]
      }
     ],
     "prompt_number": 18
    },
    {
     "cell_type": "code",
     "collapsed": false,
     "input": [
      "anum = np.array(a)\n",
      "anum"
     ],
     "language": "python",
     "metadata": {},
     "outputs": [
      {
       "metadata": {},
       "output_type": "pyout",
       "prompt_number": 22,
       "text": [
        "array(['1', '2', '3', '4', '5'], \n",
        "      dtype='|S1')"
       ]
      }
     ],
     "prompt_number": 22
    },
    {
     "cell_type": "code",
     "collapsed": false,
     "input": [
      "anum = np.array(a).astype('d')\n",
      "anum"
     ],
     "language": "python",
     "metadata": {},
     "outputs": [
      {
       "metadata": {},
       "output_type": "pyout",
       "prompt_number": 23,
       "text": [
        "array([ 1.,  2.,  3.,  4.,  5.])"
       ]
      }
     ],
     "prompt_number": 23
    },
    {
     "cell_type": "markdown",
     "metadata": {},
     "source": [
      "### Reading a multi-column text file"
     ]
    },
    {
     "cell_type": "code",
     "collapsed": false,
     "input": [
      "import numpy as np\n",
      "file_obj = open('test.txt','r')\n",
      "data_str = file_obj.readlines()\n",
      "file_obj.close()\n",
      "\n",
      "radians = np.zeros(len(data_str),'f')\n",
      "sines = np.zeros(len(data_str),'f')\n",
      "for i in np.arange(len(data_str)):\n",
      "    split_str = data_str[i].split('\\t')\n",
      "    radians[i] = float(split_str[0])\n",
      "    sines[i] = float(split_str[1])"
     ],
     "language": "python",
     "metadata": {},
     "outputs": []
    },
    {
     "cell_type": "markdown",
     "metadata": {},
     "source": [
      "# NetCDF"
     ]
    },
    {
     "cell_type": "markdown",
     "metadata": {},
     "source": [
      "###Structure of netCDF"
     ]
    },
    {
     "cell_type": "markdown",
     "metadata": {},
     "source": [
      "> There are four general types of parameters in a netCDF file: global attributes, variables, variable attributes, and \n",
      "    dimensions.\n",
      "    \n",
      "> Global attributes are usually strings that describe the file as a whole, e.g., a title, who created it, what standards\n",
      "    it follows,etc.\n",
      "    \n",
      "> Variables are the entities that hold data. These include both the data-proper(e.g.,temperature,meridional wind,etc.),\n",
      "    the domain the data is defined on (delineated by the dimensions), and metadata about the data (e.g.,units).\n",
      "    \n",
      "> Variable attributes store the metadata associated with a variable.\n",
      "\n",
      "> Dimensions define a domain for the data-proper, but they also have values of their own(e.g.,latitude values,longitude values,etc.), and thus you usually create variables for each dimension that are the same name as the dimension."
     ]
    },
    {
     "cell_type": "markdown",
     "metadata": {},
     "source": [
      "> NetCDF file objects have an attribute **variables** which is a dictionary. The keys are strings that are the names \n",
      "    of the variables, and the values are variable objects that contain the variable's values as well as metadata.\n",
      "    \n",
      "> NetCDF file objects also have an attribute **dimensions** which is a dictionary. The keys are strings that are the \n",
      "    names of the dimensions, and the values are the lengths of the dimensions."
     ]
    },
    {
     "cell_type": "markdown",
     "metadata": {},
     "source": [
      "### Reading a file"
     ]
    },
    {
     "cell_type": "code",
     "collapsed": false,
     "input": [
      "from netCDF4 import Dataset\n",
      "file_obj = Dataset('04_01_day1',mode='r')\n",
      "#data = file_obj.variables['SWE'].getValue()\n",
      "units_str = file_obj.variables['SWE'].units\n",
      "title = file_obj.title\n",
      "dimensions = file_obj.dimensions\n",
      "variables = file_obj.variables\n",
      "#name = file_obj.variables['SWE'].long_name\n",
      "print units_str,'\\n'"
     ],
     "language": "python",
     "metadata": {},
     "outputs": [
      {
       "output_type": "stream",
       "stream": "stdout",
       "text": [
        "mm \n",
        "\n"
       ]
      }
     ],
     "prompt_number": 35
    },
    {
     "cell_type": "code",
     "collapsed": false,
     "input": [
      "print title,'\\n'"
     ],
     "language": "python",
     "metadata": {},
     "outputs": [
      {
       "output_type": "stream",
       "stream": "stdout",
       "text": [
        "MACAv2L13v1.0 (CONUS)L13v1.1 (CAN) \n",
        "\n"
       ]
      }
     ],
     "prompt_number": 36
    },
    {
     "cell_type": "code",
     "collapsed": false,
     "input": [
      "print dimensions,'\\n'"
     ],
     "language": "python",
     "metadata": {},
     "outputs": [
      {
       "output_type": "stream",
       "stream": "stdout",
       "text": [
        "OrderedDict([(u'Longitude', <netCDF4.Dimension object at 0x2e201b8>), (u'Latitude', <netCDF4.Dimension object at 0x2e20638>), (u'Time', <netCDF4.Dimension object at 0x2e20680>)]) \n",
        "\n"
       ]
      }
     ],
     "prompt_number": 37
    },
    {
     "cell_type": "code",
     "collapsed": false,
     "input": [
      "print variables,'\\n'"
     ],
     "language": "python",
     "metadata": {},
     "outputs": [
      {
       "output_type": "stream",
       "stream": "stdout",
       "text": [
        "OrderedDict([(u'Longitude', <netCDF4.Variable object at 0x2dbacd0>), (u'Latitude', <netCDF4.Variable object at 0x2dbac50>), (u'Time', <netCDF4.Variable object at 0x2dbabd0>), (u'SWE', <netCDF4.Variable object at 0x2dbab50>)]) \n",
        "\n"
       ]
      }
     ],
     "prompt_number": 38
    },
    {
     "cell_type": "code",
     "collapsed": false,
     "input": [
      "time = file_obj.variables['Time']\n",
      "print time.units,'\\n'\n",
      "print time.shape"
     ],
     "language": "python",
     "metadata": {},
     "outputs": [
      {
       "output_type": "stream",
       "stream": "stdout",
       "text": [
        "days since 1950-01-01 00:00:00 \n",
        "\n",
        "(1,)\n"
       ]
      }
     ],
     "prompt_number": 39
    },
    {
     "cell_type": "markdown",
     "metadata": {},
     "source": [
      "> The dimension of **'time'** is set to None because that dimension is **unlimited dimension**(the dimension along which \n",
      "   one can append new latitude-longtitude slices)"
     ]
    },
    {
     "cell_type": "markdown",
     "metadata": {},
     "source": [
      "### Writing a file"
     ]
    },
    {
     "cell_type": "code",
     "collapsed": false,
     "input": [
      "nc = Dataset('data.nc','w')\n",
      "lat_dim = nc.createDimension('lat',187)\n",
      "lon_dim = nc.createDimension('lon',238)\n",
      "time_dim = nc.createDimension('time',0)"
     ],
     "language": "python",
     "metadata": {},
     "outputs": [],
     "prompt_number": 40
    },
    {
     "cell_type": "code",
     "collapsed": false,
     "input": [
      "lat = nc.createVariable('lat','f4',('lat',))\n",
      "lat.units = 'degrees_north'\n",
      "lat.standard_name = 'latitude'\n",
      "lon = nc.createVariable('lon','f4',('lon',))\n",
      "lon.units = 'degrees_east'\n",
      "lon.standard_name = 'longitude'\n",
      "times = nc.createVariable('time','f8',('time',))\n",
      "times.units = 'days since 1991-03-23'\n",
      "times.calendar = 'gregorian'\n",
      "data = nc.createVariable('SWE','f4',('time','lat','lon'))\n",
      "data.units = 'mm'\n",
      "data.standard_name = 'mm of SWE'"
     ],
     "language": "python",
     "metadata": {},
     "outputs": [],
     "prompt_number": 41
    },
    {
     "cell_type": "code",
     "collapsed": false,
     "input": [
      "lat"
     ],
     "language": "python",
     "metadata": {},
     "outputs": [
      {
       "metadata": {},
       "output_type": "pyout",
       "prompt_number": 45,
       "text": [
        "<netCDF4.Variable at 0x2dbaed0>"
       ]
      }
     ],
     "prompt_number": 45
    },
    {
     "cell_type": "code",
     "collapsed": false,
     "input": [
      "lats = np.arange(45,46,0.0625)\n",
      "lons = np.arange(-120,-119,0.0625)\n",
      "lat[:] = lats\n",
      "lon[:] = lons"
     ],
     "language": "python",
     "metadata": {},
     "outputs": [],
     "prompt_number": 46
    },
    {
     "cell_type": "code",
     "collapsed": false,
     "input": [
      "nlats = len(lat)\n",
      "nlons = len(lon)\n",
      "for lat in np.arange(nlats):\n",
      "    for lon in np.arange(nlons):\n",
      "        data[0,lat,lon] = lat*lon"
     ],
     "language": "python",
     "metadata": {},
     "outputs": [],
     "prompt_number": 47
    },
    {
     "cell_type": "code",
     "collapsed": false,
     "input": [
      "import time\n",
      "nc.description = 'SWE of Western U.S.'\n",
      "nc.history = 'Created' + time.ctime(time.time())\n",
      "nc.source = 'UW Land Surface Group'"
     ],
     "language": "python",
     "metadata": {},
     "outputs": []
    }
   ],
   "metadata": {}
  }
 ]
}