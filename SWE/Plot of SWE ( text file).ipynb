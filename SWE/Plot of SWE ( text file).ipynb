{
 "metadata": {
  "name": ""
 },
 "nbformat": 3,
 "nbformat_minor": 0,
 "worksheets": [
  {
   "cells": [
    {
     "cell_type": "code",
     "collapsed": false,
     "input": [
      "%pylab inline"
     ],
     "language": "python",
     "metadata": {},
     "outputs": [
      {
       "output_type": "stream",
       "stream": "stdout",
       "text": [
        "Populating the interactive namespace from numpy and matplotlib\n"
       ]
      }
     ],
     "prompt_number": 1
    },
    {
     "cell_type": "code",
     "collapsed": false,
     "input": [
      "from pylab import *"
     ],
     "language": "python",
     "metadata": {},
     "outputs": [],
     "prompt_number": 2
    },
    {
     "cell_type": "code",
     "collapsed": false,
     "input": [
      "import pandas as pd"
     ],
     "language": "python",
     "metadata": {},
     "outputs": [],
     "prompt_number": 4
    },
    {
     "cell_type": "code",
     "collapsed": false,
     "input": [
      "from datetime import datetime"
     ],
     "language": "python",
     "metadata": {},
     "outputs": [],
     "prompt_number": 5
    },
    {
     "cell_type": "code",
     "collapsed": false,
     "input": [
      "vic_path = '/usr1/jiawei/courses/computingWorkshop/shell/data/fluxes_13.7500_-1.2500'\n",
      "vic_header = ['year', 'month', 'day', 'vic_prec', 'vic_air_temp', 'vic_wind',\\\n",
      "              'vic_rel_humid', 'vic_shortwave', 'vic_net_short', 'vic_longwave', 'vic_SWE', 'vic_net_lon']\n",
      "vic_start = datetime(1990, 1, 1)\n",
      "vic_end = datetime(2012, 12, 17)\n",
      "vic_dates = pd.date_range(start = vic_start, end=vic_end, freq='D')"
     ],
     "language": "python",
     "metadata": {},
     "outputs": [],
     "prompt_number": 30
    },
    {
     "cell_type": "code",
     "collapsed": false,
     "input": [
      "data = np.genfromtxt(vic_path, delimiter='\\t')"
     ],
     "language": "python",
     "metadata": {},
     "outputs": [],
     "prompt_number": 31
    },
    {
     "cell_type": "code",
     "collapsed": false,
     "input": [
      "vic_df = pd.DataFrame(data, index = vic_dates, columns = vic_header)"
     ],
     "language": "python",
     "metadata": {},
     "outputs": [],
     "prompt_number": 32
    },
    {
     "cell_type": "code",
     "collapsed": false,
     "input": [
      "print vic_df"
     ],
     "language": "python",
     "metadata": {},
     "outputs": [],
     "prompt_number": 26
    },
    {
     "cell_type": "code",
     "collapsed": false,
     "input": [
      "#function for finding day of water year\n",
      "def water_day(indate):\n",
      "    doy = indate.timetuple().tm_yday\n",
      "    if doy >= 274:\n",
      "        outdate = doy - 274\n",
      "    else:\n",
      "        outdate = doy + 91\n",
      "    return outdate"
     ],
     "language": "python",
     "metadata": {},
     "outputs": [],
     "prompt_number": 33
    },
    {
     "cell_type": "code",
     "collapsed": false,
     "input": [
      "plt.figure()\n",
      "t = np.arange(365)\n",
      "\n",
      "var = 'vic_SWE'\n",
      "xlab = 'Day of Water Year'\n",
      "ylab = 'SWE (mm)'\n",
      "\n",
      "max1 = vic_df[var].groupby(lambda x:water_day(x)).max()\n",
      "min1 = vic_df[var].groupby(lambda x:water_day(x)).min()\n",
      "\n",
      "fill_between(t, min1.values, max1.values, color = 'grey')\n",
      "\n",
      "vic_df[var].groupby(lambda x:water_day(x)).mean().plot(style = 'w', lw = 3)\n",
      "\n",
      "xlabel(xlab)\n",
      "ylabel(ylab)\n",
      "plt.xlim((0,366))"
     ],
     "language": "python",
     "metadata": {},
     "outputs": [
      {
       "metadata": {},
       "output_type": "pyout",
       "prompt_number": 34,
       "text": [
        "(0, 366)"
       ]
      },
      {
       "metadata": {},
       "output_type": "display_data",
       "png": "[encoded data removed]",
       "text": [
        "<matplotlib.figure.Figure at 0x2c3f050>"
       ]
      }
     ],
     "prompt_number": 34
    }
   ],
   "metadata": {}
  }
 ]
}